{
 "cells": [
  {
   "cell_type": "markdown",
   "id": "39ba9904",
   "metadata": {},
   "source": [
    "# Phase 4: Pembuatan Dataset Final & Pelabelan\n",
    "\n",
    "**Tujuan:** Tahap ini adalah jembatan antara rekayasa fitur dan pemodelan prediktif. Tujuannya adalah untuk menciptakan variabel target (`is_buzzer`) yang akan dipelajari oleh model machine learning kita. Karena kita tidak memiliki data \"ground truth\" (data yang sudah dilabeli oleh manusia), kita akan menggunakan **Heuristic Labeling**.\n",
    "\n",
    "**Apa itu Heuristic Labeling?**\n",
    "Ini adalah teknik di mana kita membuat serangkaian aturan logis berdasarkan pengetahuan domain untuk memberi label pada data. Aturan kita akan didasarkan pada kombinasi fitur-fitur ekstrem yang sangat kuat mengindikasikan perilaku non-organik.\n",
    "\n",
    "**Langkah-langkah yang akan dilakukan:**\n",
    "1.  **Load Final Features:** Memuat dataset `final_features.csv` dari Phase 3.\n",
    "2.  **Define Heuristic Rules:** Menentukan kombinasi ambang batas (threshold) pada fitur-fitur kunci (misalnya, `in_degree` rendah, `out_degree` tinggi, `narrative_similarity` tinggi) untuk mendefinisikan \"profil buzzer\".\n",
    "3.  **Apply Labels:** Menerapkan aturan tersebut untuk membuat kolom baru `is_buzzer` dengan nilai `1` (terindikasi buzzer) atau `0` (pengguna biasa).\n",
    "4.  **Analyze and Save:** Menganalisis distribusi label yang dihasilkan dan menyimpan dataset final yang siap untuk dilatih.\n"
   ]
  },
  {
   "cell_type": "markdown",
   "id": "2f114802",
   "metadata": {},
   "source": [
    "### 4.1. Install & Import Requirements"
   ]
  },
  {
   "cell_type": "code",
   "execution_count": 1,
   "id": "bd3c59b1",
   "metadata": {},
   "outputs": [],
   "source": [
    "import pandas as pd\n",
    "import numpy as np\n",
    "import matplotlib.pyplot as plt\n",
    "import seaborn as sns\n",
    "from IPython.display import display"
   ]
  },
  {
   "cell_type": "markdown",
   "id": "6b666f2a",
   "metadata": {},
   "source": [
    "### 4.2. Load Final Feature Set\n",
    "\n",
    "Kita akan memuat `final_features.csv` yang merupakan output komprehensif dari Phase 3.\n"
   ]
  },
  {
   "cell_type": "code",
   "execution_count": 2,
   "id": "052e45c0",
   "metadata": {},
   "outputs": [
    {
     "name": "stdout",
     "output_type": "stream",
     "text": [
      "✅ Dataset fitur final ('final_features.csv') berhasil dimuat.\n",
      "Shape: (100, 9)\n"
     ]
    },
    {
     "data": {
      "text/html": [
       "<div>\n",
       "<style scoped>\n",
       "    .dataframe tbody tr th:only-of-type {\n",
       "        vertical-align: middle;\n",
       "    }\n",
       "\n",
       "    .dataframe tbody tr th {\n",
       "        vertical-align: top;\n",
       "    }\n",
       "\n",
       "    .dataframe thead th {\n",
       "        text-align: right;\n",
       "    }\n",
       "</style>\n",
       "<table border=\"1\" class=\"dataframe\">\n",
       "  <thead>\n",
       "    <tr style=\"text-align: right;\">\n",
       "      <th></th>\n",
       "      <th>community</th>\n",
       "      <th>pagerank</th>\n",
       "      <th>betweenness</th>\n",
       "      <th>in_degree</th>\n",
       "      <th>out_degree</th>\n",
       "      <th>narrative_similarity</th>\n",
       "      <th>tweet_frequency</th>\n",
       "      <th>reply_ratio</th>\n",
       "    </tr>\n",
       "  </thead>\n",
       "  <tbody>\n",
       "    <tr>\n",
       "      <th>count</th>\n",
       "      <td>100.000000</td>\n",
       "      <td>100.000000</td>\n",
       "      <td>100.000000</td>\n",
       "      <td>100.000000</td>\n",
       "      <td>100.000000</td>\n",
       "      <td>100.000000</td>\n",
       "      <td>100.000000</td>\n",
       "      <td>100.000000</td>\n",
       "    </tr>\n",
       "    <tr>\n",
       "      <th>mean</th>\n",
       "      <td>30.550000</td>\n",
       "      <td>0.005190</td>\n",
       "      <td>0.000004</td>\n",
       "      <td>0.270000</td>\n",
       "      <td>1.020000</td>\n",
       "      <td>0.290006</td>\n",
       "      <td>1.750000</td>\n",
       "      <td>0.800931</td>\n",
       "    </tr>\n",
       "    <tr>\n",
       "      <th>std</th>\n",
       "      <td>17.988422</td>\n",
       "      <td>0.002263</td>\n",
       "      <td>0.000027</td>\n",
       "      <td>0.547815</td>\n",
       "      <td>1.044272</td>\n",
       "      <td>0.279166</td>\n",
       "      <td>2.417842</td>\n",
       "      <td>0.377062</td>\n",
       "    </tr>\n",
       "    <tr>\n",
       "      <th>min</th>\n",
       "      <td>0.000000</td>\n",
       "      <td>0.004140</td>\n",
       "      <td>0.000000</td>\n",
       "      <td>0.000000</td>\n",
       "      <td>0.000000</td>\n",
       "      <td>0.000000</td>\n",
       "      <td>1.000000</td>\n",
       "      <td>0.000000</td>\n",
       "    </tr>\n",
       "    <tr>\n",
       "      <th>25%</th>\n",
       "      <td>16.750000</td>\n",
       "      <td>0.004140</td>\n",
       "      <td>0.000000</td>\n",
       "      <td>0.000000</td>\n",
       "      <td>1.000000</td>\n",
       "      <td>0.000000</td>\n",
       "      <td>1.000000</td>\n",
       "      <td>1.000000</td>\n",
       "    </tr>\n",
       "    <tr>\n",
       "      <th>50%</th>\n",
       "      <td>28.000000</td>\n",
       "      <td>0.004140</td>\n",
       "      <td>0.000000</td>\n",
       "      <td>0.000000</td>\n",
       "      <td>1.000000</td>\n",
       "      <td>0.278508</td>\n",
       "      <td>1.000000</td>\n",
       "      <td>1.000000</td>\n",
       "    </tr>\n",
       "    <tr>\n",
       "      <th>75%</th>\n",
       "      <td>45.250000</td>\n",
       "      <td>0.004140</td>\n",
       "      <td>0.000000</td>\n",
       "      <td>0.000000</td>\n",
       "      <td>1.000000</td>\n",
       "      <td>0.577350</td>\n",
       "      <td>1.000000</td>\n",
       "      <td>1.000000</td>\n",
       "    </tr>\n",
       "    <tr>\n",
       "      <th>max</th>\n",
       "      <td>64.000000</td>\n",
       "      <td>0.014169</td>\n",
       "      <td>0.000262</td>\n",
       "      <td>2.000000</td>\n",
       "      <td>8.000000</td>\n",
       "      <td>0.876543</td>\n",
       "      <td>18.000000</td>\n",
       "      <td>1.000000</td>\n",
       "    </tr>\n",
       "  </tbody>\n",
       "</table>\n",
       "</div>"
      ],
      "text/plain": [
       "        community    pagerank  betweenness   in_degree  out_degree  \\\n",
       "count  100.000000  100.000000   100.000000  100.000000  100.000000   \n",
       "mean    30.550000    0.005190     0.000004    0.270000    1.020000   \n",
       "std     17.988422    0.002263     0.000027    0.547815    1.044272   \n",
       "min      0.000000    0.004140     0.000000    0.000000    0.000000   \n",
       "25%     16.750000    0.004140     0.000000    0.000000    1.000000   \n",
       "50%     28.000000    0.004140     0.000000    0.000000    1.000000   \n",
       "75%     45.250000    0.004140     0.000000    0.000000    1.000000   \n",
       "max     64.000000    0.014169     0.000262    2.000000    8.000000   \n",
       "\n",
       "       narrative_similarity  tweet_frequency  reply_ratio  \n",
       "count            100.000000       100.000000   100.000000  \n",
       "mean               0.290006         1.750000     0.800931  \n",
       "std                0.279166         2.417842     0.377062  \n",
       "min                0.000000         1.000000     0.000000  \n",
       "25%                0.000000         1.000000     1.000000  \n",
       "50%                0.278508         1.000000     1.000000  \n",
       "75%                0.577350         1.000000     1.000000  \n",
       "max                0.876543        18.000000     1.000000  "
      ]
     },
     "metadata": {},
     "output_type": "display_data"
    }
   ],
   "source": [
    "try:\n",
    "    df_final = pd.read_csv('final_features.csv')\n",
    "    print(\"✅ Dataset fitur final ('final_features.csv') berhasil dimuat.\")\n",
    "    print(f\"Shape: {df_final.shape}\")\n",
    "    display(df_final.describe())\n",
    "\n",
    "except FileNotFoundError:\n",
    "    print(\"❌ ERROR: File 'final_features.csv' tidak ditemukan.\")\n",
    "    print(\"Pastikan Anda sudah menjalankan notebook Phase 3 terlebih dahulu.\")\n",
    "    df_final = pd.DataFrame()"
   ]
  },
  {
   "cell_type": "markdown",
   "id": "b8cbe793",
   "metadata": {},
   "source": [
    "### 4.3. Heuristic Labeling for Training Data\n",
    "\n",
    "Di sinilah kita mendefinisikan \"sidik jari\" buzzer berdasarkan data. Kita tidak akan menggunakan angka mutlak, melainkan **kuantil (quantiles)**. Ini membuat aturan kita lebih adaptif terhadap distribusi data.\n",
    "\n",
    "**Logika Pelabelan Buzzer (Label = 1 jika SEMUA kondisi terpenuhi):**\n",
    "1.  **`in_degree` == 0**: Akun ini hampir tidak pernah menerima interaksi organik (balasan/mention) dari akun lain di dalam jaringan yang kita analisis. Mereka \"berbicara\" tetapi tidak \"diajak bicara\".\n",
    "2.  **`betweenness` == 0**: Akun ini tidak berfungsi sebagai jembatan informasi antar komunitas. Mereka beroperasi secara terisolasi di dalam *echo chamber* mereka sendiri.\n",
    "3.  **`narrative_similarity` > Kuantil ke-75 (Top 25%)**: Konten yang mereka hasilkan sangat seragam dan termasuk dalam 25% teratas paling mirip dengan narasi komunitasnya.\n",
    "4.  **`out_degree` > Kuantil ke-75 (Top 25%)**: Aktivitas mereka dalam menyebarkan pesan (me-reply) termasuk dalam 25% teratas paling aktif.\n",
    "\n",
    "Kombinasi keempat aturan ini menciptakan definisi yang sangat ketat dan kuat untuk akun yang perilakunya sangat terkoordinasi dan non-organik.\n"
   ]
  },
  {
   "cell_type": "code",
   "execution_count": 3,
   "id": "138bb814",
   "metadata": {},
   "outputs": [
    {
     "name": "stdout",
     "output_type": "stream",
     "text": [
      "--- 4.3. Heuristic Rule Thresholds ---\n",
      "Ambang batas Narrative Similarity (Top 25%): 0.5774\n",
      "Ambang batas Out-Degree (Top 25%): 1.0000\n",
      "\n",
      "✅ Kolom target 'is_buzzer' berhasil dibuat.\n"
     ]
    }
   ],
   "source": [
    "if not df_final.empty:\n",
    "    # Menghitung ambang batas kuantil\n",
    "    narrative_similarity_threshold = df_final['narrative_similarity'].quantile(0.75)\n",
    "    out_degree_threshold = df_final['out_degree'].quantile(0.75)\n",
    "\n",
    "    print(f\"--- 4.3. Heuristic Rule Thresholds ---\")\n",
    "    print(f\"Ambang batas Narrative Similarity (Top 25%): {narrative_similarity_threshold:.4f}\")\n",
    "    print(f\"Ambang batas Out-Degree (Top 25%): {out_degree_threshold:.4f}\")\n",
    "\n",
    "    # Fungsi untuk menerapkan logika pelabelan\n",
    "    def label_buzzer(row):\n",
    "        # Kondisi 1 & 2: Isolasi dalam jaringan\n",
    "        is_isolated = (row['in_degree'] == 0) and (row['betweenness'] == 0)\n",
    "        # Kondisi 3 & 4: Konten seragam dan aktivitas tinggi\n",
    "        is_high_activity_uniform = (row['narrative_similarity'] > narrative_similarity_threshold) and \\\n",
    "                                   (row['out_degree'] > out_degree_threshold)\n",
    "\n",
    "        if is_isolated and is_high_activity_uniform:\n",
    "            return 1  # Terindikasi kuat sebagai buzzer\n",
    "        else:\n",
    "            return 0  # Pengguna biasa\n",
    "\n",
    "    # Terapkan fungsi untuk membuat kolom target\n",
    "    df_final['is_buzzer'] = df_final.apply(label_buzzer, axis=1)\n",
    "\n",
    "    print(\"\\n✅ Kolom target 'is_buzzer' berhasil dibuat.\")\n"
   ]
  },
  {
   "cell_type": "markdown",
   "id": "b7fb9ffd",
   "metadata": {},
   "source": [
    "### 4.4. Review Labeled Data\n",
    "\n",
    "Setelah pelabelan selesai, kita perlu memeriksa hasilnya.\n",
    "- Berapa banyak akun yang teridentifikasi sebagai buzzer?\n",
    "- Apakah hasilnya sesuai dengan ekspektasi kita (dataset sangat tidak seimbang)?\n",
    "- Mari kita lihat contoh akun yang dilabeli sebagai buzzer untuk memvalidasi aturan kita."
   ]
  },
  {
   "cell_type": "code",
   "execution_count": 4,
   "id": "995a6b5d",
   "metadata": {},
   "outputs": [
    {
     "name": "stdout",
     "output_type": "stream",
     "text": [
      "--- 4.4. Labeled Data Distribution ---\n",
      "is_buzzer\n",
      "0    99\n",
      "1     1\n",
      "Name: count, dtype: int64\n"
     ]
    },
    {
     "name": "stderr",
     "output_type": "stream",
     "text": [
      "/tmp/ipykernel_323450/3007790455.py:10: FutureWarning: \n",
      "\n",
      "Passing `palette` without assigning `hue` is deprecated and will be removed in v0.14.0. Assign the `x` variable to `hue` and set `legend=False` for the same effect.\n",
      "\n",
      "  sns.countplot(x='is_buzzer', data=df_final, palette=['#4CAF50', '#F44336'])\n"
     ]
    },
    {
     "data": {
      "image/png": "[encoded data removed]",
      "text/plain": [
       "<Figure size 800x600 with 1 Axes>"
      ]
     },
     "metadata": {},
     "output_type": "display_data"
    },
    {
     "name": "stdout",
     "output_type": "stream",
     "text": [
      "\n",
      "--- Contoh Akun yang Terindikasi Buzzer ---\n"
     ]
    },
    {
     "data": {
      "text/html": [
       "<div>\n",
       "<style scoped>\n",
       "    .dataframe tbody tr th:only-of-type {\n",
       "        vertical-align: middle;\n",
       "    }\n",
       "\n",
       "    .dataframe tbody tr th {\n",
       "        vertical-align: top;\n",
       "    }\n",
       "\n",
       "    .dataframe thead th {\n",
       "        text-align: right;\n",
       "    }\n",
       "</style>\n",
       "<table border=\"1\" class=\"dataframe\">\n",
       "  <thead>\n",
       "    <tr style=\"text-align: right;\">\n",
       "      <th></th>\n",
       "      <th>username</th>\n",
       "      <th>community</th>\n",
       "      <th>pagerank</th>\n",
       "      <th>betweenness</th>\n",
       "      <th>in_degree</th>\n",
       "      <th>out_degree</th>\n",
       "      <th>narrative_similarity</th>\n",
       "      <th>tweet_frequency</th>\n",
       "      <th>reply_ratio</th>\n",
       "      <th>is_buzzer</th>\n",
       "    </tr>\n",
       "  </thead>\n",
       "  <tbody>\n",
       "    <tr>\n",
       "      <th>63</th>\n",
       "      <td>thelastgoodbtch</td>\n",
       "      <td>45</td>\n",
       "      <td>0.00414</td>\n",
       "      <td>0.0</td>\n",
       "      <td>0</td>\n",
       "      <td>2</td>\n",
       "      <td>0.741249</td>\n",
       "      <td>2</td>\n",
       "      <td>1.0</td>\n",
       "      <td>1</td>\n",
       "    </tr>\n",
       "  </tbody>\n",
       "</table>\n",
       "</div>"
      ],
      "text/plain": [
       "           username  community  pagerank  betweenness  in_degree  out_degree  \\\n",
       "63  thelastgoodbtch         45   0.00414          0.0          0           2   \n",
       "\n",
       "    narrative_similarity  tweet_frequency  reply_ratio  is_buzzer  \n",
       "63              0.741249                2          1.0          1  "
      ]
     },
     "metadata": {},
     "output_type": "display_data"
    }
   ],
   "source": [
    "if 'is_buzzer' in df_final.columns:\n",
    "    print(\"--- 4.4. Labeled Data Distribution ---\")\n",
    "    \n",
    "    # Menghitung distribusi label\n",
    "    label_counts = df_final['is_buzzer'].value_counts()\n",
    "    print(label_counts)\n",
    "\n",
    "    # Visualisasi distribusi\n",
    "    plt.figure(figsize=(8, 6))\n",
    "    sns.countplot(x='is_buzzer', data=df_final, palette=['#4CAF50', '#F44336'])\n",
    "    plt.title('Distribusi Label (0: Pengguna Biasa vs 1: Terindikasi Buzzer)', fontsize=14, fontweight='bold')\n",
    "    plt.ylabel('Jumlah Akun')\n",
    "    plt.xlabel('Tipe Akun')\n",
    "    plt.xticks([0, 1], ['Pengguna Biasa', 'Terindikasi Buzzer'])\n",
    "    plt.show()\n",
    "\n",
    "    # Menampilkan sampel akun yang terindikasi buzzer\n",
    "    print(\"\\n--- Contoh Akun yang Terindikasi Buzzer ---\")\n",
    "    df_buzzers = df_final[df_final['is_buzzer'] == 1]\n",
    "    display(df_buzzers.sort_values('out_degree', ascending=False).head(10))"
   ]
  },
  {
   "cell_type": "markdown",
   "id": "fbf5895d",
   "metadata": {},
   "source": [
    "### 4.5. Save Final Labeled Dataset\n",
    "\n",
    "Langkah terakhir adalah menyimpan DataFrame yang sudah memiliki label ini ke dalam sebuah file CSV baru. File ini akan menjadi input utama untuk Phase 5: Pelatihan Model.\n"
   ]
  },
  {
   "cell_type": "code",
   "execution_count": 5,
   "id": "ae5fe69f",
   "metadata": {},
   "outputs": [
    {
     "name": "stdout",
     "output_type": "stream",
     "text": [
      "\n",
      "--- ✅ PHASE 4 COMPLETED ---\n",
      "Output: Dataset final dengan label ('labeled_dataset.csv') siap untuk pemodelan.\n"
     ]
    }
   ],
   "source": [
    "if 'is_buzzer' in df_final.columns:\n",
    "    # Menyimpan hasil ke file CSV\n",
    "    df_final.to_csv('labeled_dataset.csv', index=False)\n",
    "    \n",
    "    print(\"\\n--- ✅ PHASE 4 COMPLETED ---\")\n",
    "    print(\"Output: Dataset final dengan label ('labeled_dataset.csv') siap untuk pemodelan.\")\n",
    "else:\n",
    "    print(\"\\n--- ❌ PHASE 4 FAILED ---\")\n",
    "    print(\"Kolom 'is_buzzer' tidak berhasil dibuat.\")\n"
   ]
  }
 ],
 "metadata": {
  "kernelspec": {
   "display_name": "Python 3",
   "language": "python",
   "name": "python3"
  },
  "language_info": {
   "codemirror_mode": {
    "name": "ipython",
    "version": 3
   },
   "file_extension": ".py",
   "mimetype": "text/x-python",
   "name": "python",
   "nbconvert_exporter": "python",
   "pygments_lexer": "ipython3",
   "version": "3.10.12"
  }
 },
 "nbformat": 4,
 "nbformat_minor": 5
}

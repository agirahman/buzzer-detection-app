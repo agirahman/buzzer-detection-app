{
 "cells": [
  {
   "cell_type": "markdown",
   "id": "fc4e9a0d",
   "metadata": {},
   "source": [
    "# Phase 5: Predictive Model Training & Evaluation\n",
    "\n",
    "Tujuan: Ini adalah tahap inti dari proyek kita. Tujuannya adalah untuk melatih sebuah model klasifikasi machine learning menggunakan dataset berlabel yang telah kita siapkan di Phase 4. Kita akan mengajari model untuk mengenali pola-pola yang membedakan akun buzzer dari pengguna biasa, dan kemudian mengevaluasi seberapa baik performanya pada data yang belum pernah ia lihat sebelumnya.\n",
    "\n",
    "Fokus Utama:\n",
    "Karena dataset kita sangat tidak seimbang, fokus kita bukan pada akurasi, melainkan pada kemampuan model untuk mendeteksi kelas minoritas (buzzer). Kita akan menggunakan teknik dan metrik evaluasi yang dirancang khusus untuk skenario ini.\n",
    "\n",
    "Langkah-langkah yang akan dilakukan:\n",
    "1.  Dataset Splitting: Membagi data menjadi set pelatihan (untuk belajar) dan set pengujian (untuk evaluasi) secara proporsional.\n",
    "2.  Imbalance Handling: Mengonfigurasi model `XGBoost` untuk memberikan \"bobot\" lebih pada kelas buzzer yang langka.\n",
    "3.  Model Training: Melatih model pada data pelatihan.\n",
    "4.  Performance Evaluation: Mengukur performa model menggunakan metrik yang relevan seperti Recall, F1-Score, Confusion Matrix, dan Precision-Recall Curve.\n"
   ]
  },
  {
   "cell_type": "markdown",
   "id": "d11df07a",
   "metadata": {},
   "source": [
    "### 5.1. Install & Import Requirements"
   ]
  },
  {
   "cell_type": "code",
   "execution_count": 2,
   "id": "c31320c9",
   "metadata": {},
   "outputs": [],
   "source": [
    "import pandas as pd\n",
    "import numpy as np\n",
    "import matplotlib.pyplot as plt\n",
    "import seaborn as sns\n",
    "from IPython.display import display\n",
    "# Scikit-learn modules\n",
    "from sklearn.model_selection import train_test_split\n",
    "from sklearn.metrics import classification_report, confusion_matrix, precision_recall_curve, auc\n",
    "# Model\n",
    "import xgboost as xgb"
   ]
  },
  {
   "cell_type": "markdown",
   "id": "ed32947e",
   "metadata": {},
   "source": [
    "### 5.2. Load Labeled Dataset"
   ]
  },
  {
   "cell_type": "code",
   "execution_count": 3,
   "id": "55c35ef2",
   "metadata": {},
   "outputs": [
    {
     "name": "stdout",
     "output_type": "stream",
     "text": [
      "✅ Dataset berlabel ('labeled_dataset.csv') berhasil dimuat.\n",
      "Shape: (564, 10)\n",
      "\n",
      "Distribusi kelas:\n",
      "is_buzzer\n",
      "0    553\n",
      "1     11\n",
      "Name: count, dtype: int64\n"
     ]
    }
   ],
   "source": [
    "try:\n",
    "    df_labeled = pd.read_csv('labeled_dataset.csv')\n",
    "    print(\"✅ Dataset berlabel ('labeled_dataset.csv') berhasil dimuat.\")\n",
    "    print(f\"Shape: {df_labeled.shape}\")\n",
    "    print(\"\\nDistribusi kelas:\")\n",
    "    print(df_labeled['is_buzzer'].value_counts())\n",
    "\n",
    "except FileNotFoundError:\n",
    "    print(\"❌ ERROR: File 'labeled_dataset.csv' tidak ditemukan.\")\n",
    "    print(\"Pastikan Anda sudah menjalankan notebook Phase 4 terlebih dahulu.\")\n",
    "    df_labeled = pd.DataFrame()"
   ]
  },
  {
   "cell_type": "markdown",
   "id": "7685e691",
   "metadata": {},
   "source": [
    "### 5.3. Feature and Target Selection\n",
    "\n",
    "Sekarang, kita pisahkan antara **fitur (X)** yang akan digunakan model untuk belajar, dan **target (y)** yang ingin kita prediksi.\n",
    "- **Fitur (X):** Semua kolom numerik yang telah kita rekayasa (SNA, konten, perilaku).\n",
    "- **Target (y):** Kolom `is_buzzer`.\n",
    "\n",
    "Kolom non-numerik seperti `username` akan kita buang karena tidak bisa diproses oleh model.\n"
   ]
  },
  {
   "cell_type": "code",
   "execution_count": 4,
   "id": "e093e17e",
   "metadata": {},
   "outputs": [
    {
     "name": "stdout",
     "output_type": "stream",
     "text": [
      "--- 5.3. Feature (X) and Target (y) Defined ---\n",
      "Jumlah Fitur: 7\n",
      "Contoh data fitur (X):\n"
     ]
    },
    {
     "data": {
      "text/html": [
       "<div>\n",
       "<style scoped>\n",
       "    .dataframe tbody tr th:only-of-type {\n",
       "        vertical-align: middle;\n",
       "    }\n",
       "\n",
       "    .dataframe tbody tr th {\n",
       "        vertical-align: top;\n",
       "    }\n",
       "\n",
       "    .dataframe thead th {\n",
       "        text-align: right;\n",
       "    }\n",
       "</style>\n",
       "<table border=\"1\" class=\"dataframe\">\n",
       "  <thead>\n",
       "    <tr style=\"text-align: right;\">\n",
       "      <th></th>\n",
       "      <th>pagerank</th>\n",
       "      <th>betweenness</th>\n",
       "      <th>in_degree</th>\n",
       "      <th>out_degree</th>\n",
       "      <th>narrative_similarity</th>\n",
       "      <th>tweet_frequency</th>\n",
       "      <th>reply_ratio</th>\n",
       "    </tr>\n",
       "  </thead>\n",
       "  <tbody>\n",
       "    <tr>\n",
       "      <th>0</th>\n",
       "      <td>0.000780</td>\n",
       "      <td>0.0</td>\n",
       "      <td>0</td>\n",
       "      <td>1</td>\n",
       "      <td>0.187351</td>\n",
       "      <td>1</td>\n",
       "      <td>1.00</td>\n",
       "    </tr>\n",
       "    <tr>\n",
       "      <th>1</th>\n",
       "      <td>0.000780</td>\n",
       "      <td>0.0</td>\n",
       "      <td>0</td>\n",
       "      <td>1</td>\n",
       "      <td>0.169713</td>\n",
       "      <td>1</td>\n",
       "      <td>1.00</td>\n",
       "    </tr>\n",
       "    <tr>\n",
       "      <th>2</th>\n",
       "      <td>0.000780</td>\n",
       "      <td>0.0</td>\n",
       "      <td>0</td>\n",
       "      <td>3</td>\n",
       "      <td>0.169088</td>\n",
       "      <td>4</td>\n",
       "      <td>0.75</td>\n",
       "    </tr>\n",
       "    <tr>\n",
       "      <th>3</th>\n",
       "      <td>0.011741</td>\n",
       "      <td>0.0</td>\n",
       "      <td>19</td>\n",
       "      <td>0</td>\n",
       "      <td>0.423365</td>\n",
       "      <td>1</td>\n",
       "      <td>0.00</td>\n",
       "    </tr>\n",
       "    <tr>\n",
       "      <th>4</th>\n",
       "      <td>0.000780</td>\n",
       "      <td>0.0</td>\n",
       "      <td>0</td>\n",
       "      <td>2</td>\n",
       "      <td>0.432298</td>\n",
       "      <td>2</td>\n",
       "      <td>1.00</td>\n",
       "    </tr>\n",
       "  </tbody>\n",
       "</table>\n",
       "</div>"
      ],
      "text/plain": [
       "   pagerank  betweenness  in_degree  out_degree  narrative_similarity  \\\n",
       "0  0.000780          0.0          0           1              0.187351   \n",
       "1  0.000780          0.0          0           1              0.169713   \n",
       "2  0.000780          0.0          0           3              0.169088   \n",
       "3  0.011741          0.0         19           0              0.423365   \n",
       "4  0.000780          0.0          0           2              0.432298   \n",
       "\n",
       "   tweet_frequency  reply_ratio  \n",
       "0                1         1.00  \n",
       "1                1         1.00  \n",
       "2                4         0.75  \n",
       "3                1         0.00  \n",
       "4                2         1.00  "
      ]
     },
     "metadata": {},
     "output_type": "display_data"
    },
    {
     "name": "stdout",
     "output_type": "stream",
     "text": [
      "\n",
      "Contoh data target (y):\n",
      "   is_buzzer\n",
      "0          0\n",
      "1          0\n",
      "2          0\n",
      "3          0\n",
      "4          1\n"
     ]
    }
   ],
   "source": [
    "if not df_labeled.empty:\n",
    "    # Memilih fitur-fitur yang akan digunakan\n",
    "    features = [\n",
    "        'pagerank', 'betweenness', 'in_degree', 'out_degree',\n",
    "        'narrative_similarity', 'tweet_frequency', 'reply_ratio'\n",
    "    ]\n",
    "    \n",
    "    X = df_labeled[features]\n",
    "    y = df_labeled['is_buzzer']\n",
    "\n",
    "    print(\"--- 5.3. Feature (X) and Target (y) Defined ---\")\n",
    "    print(f\"Jumlah Fitur: {X.shape[1]}\")\n",
    "    print(\"Contoh data fitur (X):\")\n",
    "    display(X.head())\n",
    "    print(\"\\nContoh data target (y):\")\n",
    "    print(y.head().to_frame())"
   ]
  },
  {
   "cell_type": "markdown",
   "id": "b1a5c1df",
   "metadata": {},
   "source": [
    "### 5.4. Dataset Stratification and Splitting\n",
    "\n",
    "80% untuk pelatihan dan 20% untuk pengujian. Parameter `stratify=y` adalah **langkah yang paling krusial di sini**. Ini memastikan bahwa proporsi kelas buzzer yang sangat kecil (1 dari 100) tetap sama di set pelatihan dan pengujian, sehingga evaluasi kita menjadi adil dan representatif."
   ]
  },
  {
   "cell_type": "code",
   "execution_count": 5,
   "id": "94c95a83",
   "metadata": {},
   "outputs": [
    {
     "name": "stdout",
     "output_type": "stream",
     "text": [
      "--- 5.4. Data Splitting Completed ---\n",
      "Ukuran X_train: (451, 7)\n",
      "Ukuran X_test:  (113, 7)\n",
      "\n",
      "Distribusi kelas di y_train:\n",
      "is_buzzer\n",
      "0    0.980044\n",
      "1    0.019956\n",
      "Name: proportion, dtype: float64\n",
      "\n",
      "Distribusi kelas di y_test:\n",
      "is_buzzer\n",
      "0    0.982301\n",
      "1    0.017699\n",
      "Name: proportion, dtype: float64\n"
     ]
    }
   ],
   "source": [
    "if 'X' in locals():\n",
    "    X_train, X_test, y_train, y_test = train_test_split(\n",
    "        X, y,\n",
    "        test_size=0.20,    # 20% data untuk pengujian\n",
    "        random_state=42,   # Untuk reproduktibilitas hasil\n",
    "        stratify=y         # KRUSIAL: Menjaga proporsi kelas\n",
    "    )\n",
    "\n",
    "    print(\"--- 5.4. Data Splitting Completed ---\")\n",
    "    print(f\"Ukuran X_train: {X_train.shape}\")\n",
    "    print(f\"Ukuran X_test:  {X_test.shape}\")\n",
    "    print(\"\\nDistribusi kelas di y_train:\")\n",
    "    print(y_train.value_counts(normalize=True))\n",
    "    print(\"\\nDistribusi kelas di y_test:\")\n",
    "    print(y_test.value_counts(normalize=True))\n"
   ]
  },
  {
   "cell_type": "markdown",
   "id": "df5e2227",
   "metadata": {},
   "source": [
    "### 5.5. Classifier Training with Imbalance Handling\n",
    "Kita akan menggunakan `XGBClassifier`. Untuk mengatasi masalah data tidak seimbang, kita akan mengatur parameter `scale_pos_weight`. Nilai ini memberitahu model untuk memberikan \"hukuman\" yang jauh lebih besar jika ia salah mengklasifikasikan kelas minoritas (buzzer).\n",
    "\n",
    "Nilainya dihitung sebagai: `(jumlah sampel kelas mayoritas) / (jumlah sampel kelas minoritas)`.\n"
   ]
  },
  {
   "cell_type": "code",
   "execution_count": 6,
   "id": "91c308a3",
   "metadata": {},
   "outputs": [
    {
     "name": "stdout",
     "output_type": "stream",
     "text": [
      "--- 5.5. Imbalance Handling ---\n",
      "Calculated scale_pos_weight: 49.11\n",
      "\n",
      "✅ Model XGBClassifier berhasil dilatih.\n"
     ]
    },
    {
     "name": "stderr",
     "output_type": "stream",
     "text": [
      "/home/vereniaes/.local/lib/python3.10/site-packages/xgboost/training.py:183: UserWarning: [06:00:00] WARNING: /workspace/src/learner.cc:738: \n",
      "Parameters: { \"use_label_encoder\" } are not used.\n",
      "\n",
      "  bst.update(dtrain, iteration=i, fobj=obj)\n"
     ]
    }
   ],
   "source": [
    "if 'y_train' in locals():\n",
    "    # Menghitung scale_pos_weight\n",
    "    ratio = y_train.value_counts()[0] / y_train.value_counts()[1]\n",
    "    print(f\"--- 5.5. Imbalance Handling ---\")\n",
    "    print(f\"Calculated scale_pos_weight: {ratio:.2f}\")\n",
    "\n",
    "    # Menginisiasi model XGBoost dengan parameter\n",
    "    model = xgb.XGBClassifier(\n",
    "        objective='binary:logistic',\n",
    "        scale_pos_weight=ratio,\n",
    "        use_label_encoder=False,\n",
    "        eval_metric='logloss',\n",
    "        random_state=42\n",
    "    )\n",
    "\n",
    "    # Melatih model\n",
    "    model.fit(X_train, y_train)\n",
    "\n",
    "    print(\"\\n✅ Model XGBClassifier berhasil dilatih.\")\n"
   ]
  },
  {
   "cell_type": "markdown",
   "id": "c0a90ca9",
   "metadata": {},
   "source": [
    "### 5.6. Performance Evaluation on Hold-out Set\n",
    "Waktunya pengujian! Kita akan menggunakan model yang sudah dilatih untuk membuat prediksi pada `X_test` dan membandingkannya dengan `y_test` (jawaban yang sebenarnya).\n",
    "\n",
    "Kita akan fokus pada metrik berikut:\n",
    "- **Confusion Matrix:** Peta visual dari performa model (True Positive, False Positive, dll).\n",
    "- **Classification Report:** Laporan detail berisi **Precision, Recall, dan F1-Score**.\n",
    "- **Precision-Recall Curve:** Grafik yang menunjukkan tradeoff antara Precision dan Recall, sangat cocok untuk kasus tidak seimbang. **AUC-PR** (Area Under this Curve) adalah skor ringkasan utamanya.\n"
   ]
  },
  {
   "cell_type": "code",
   "execution_count": 7,
   "id": "c99c2433",
   "metadata": {},
   "outputs": [
    {
     "name": "stdout",
     "output_type": "stream",
     "text": [
      "--- 5.6. Model Performance Evaluation ---\n",
      "\n",
      "--- Classification Report ---\n",
      "                    precision    recall  f1-score   support\n",
      "\n",
      "Pengguna Biasa (0)       1.00      0.99      1.00       111\n",
      "        Buzzer (1)       0.67      1.00      0.80         2\n",
      "\n",
      "          accuracy                           0.99       113\n",
      "         macro avg       0.83      1.00      0.90       113\n",
      "      weighted avg       0.99      0.99      0.99       113\n",
      "\n",
      "\n",
      "--- Confusion Matrix ---\n"
     ]
    },
    {
     "data": {
      "image/png": "[encoded data removed]",
      "text/plain": [
       "<Figure size 800x600 with 2 Axes>"
      ]
     },
     "metadata": {},
     "output_type": "display_data"
    },
    {
     "name": "stdout",
     "output_type": "stream",
     "text": [
      "\n",
      "--- Precision-Recall Curve ---\n"
     ]
    },
    {
     "data": {
      "image/png": "[encoded data removed]",
      "text/plain": [
       "<Figure size 800x600 with 1 Axes>"
      ]
     },
     "metadata": {},
     "output_type": "display_data"
    }
   ],
   "source": [
    "if 'model' in locals():\n",
    "    # Membuat prediksi pada data uji\n",
    "    y_pred = model.predict(X_test)\n",
    "    y_pred_proba = model.predict_proba(X_test)[:, 1] # Probabilitas untuk kelas positif (1)\n",
    "\n",
    "    print(\"--- 5.6. Model Performance Evaluation ---\")\n",
    "    \n",
    "    # 1. Classification Report\n",
    "    print(\"\\n--- Classification Report ---\")\n",
    "    # target_names ditambahkan untuk kejelasan\n",
    "    print(classification_report(y_test, y_pred, target_names=['Pengguna Biasa (0)', 'Buzzer (1)']))\n",
    "\n",
    "    # 2. Confusion Matrix\n",
    "    print(\"\\n--- Confusion Matrix ---\")\n",
    "    cm = confusion_matrix(y_test, y_pred)\n",
    "    plt.figure(figsize=(8, 6))\n",
    "    sns.heatmap(cm, annot=True, fmt='d', cmap='Blues',\n",
    "                xticklabels=['Prediksi Biasa', 'Prediksi Buzzer'],\n",
    "                yticklabels=['Aktual Biasa', 'Aktual Buzzer'])\n",
    "    plt.title('Confusion Matrix', fontsize=14, fontweight='bold')\n",
    "    plt.ylabel('Label Aktual')\n",
    "    plt.xlabel('Label Prediksi')\n",
    "    plt.show()\n",
    "\n",
    "    # 3. Precision-Recall Curve\n",
    "    print(\"\\n--- Precision-Recall Curve ---\")\n",
    "    precision, recall, _ = precision_recall_curve(y_test, y_pred_proba)\n",
    "    auc_pr = auc(recall, precision)\n",
    "\n",
    "    plt.figure(figsize=(8, 6))\n",
    "    plt.plot(recall, precision, marker='.', label=f'XGBoost (AUC-PR = {auc_pr:.2f})')\n",
    "    plt.title('Precision-Recall Curve', fontsize=14, fontweight='bold')\n",
    "    plt.xlabel('Recall (Sensitivity)')\n",
    "    plt.ylabel('Precision')\n",
    "    plt.legend()\n",
    "    plt.grid(True)\n",
    "    plt.show()"
   ]
  },
  {
   "cell_type": "code",
   "execution_count": 8,
   "id": "98fa2b27",
   "metadata": {},
   "outputs": [
    {
     "name": "stdout",
     "output_type": "stream",
     "text": [
      "--- 5.7. Feature Importance Analysis ---\n"
     ]
    },
    {
     "data": {
      "image/png": "[encoded data removed]",
      "text/plain": [
       "<Figure size 1000x700 with 1 Axes>"
      ]
     },
     "metadata": {},
     "output_type": "display_data"
    }
   ],
   "source": [
    "if 'model' in locals():\n",
    "    print(\"--- 5.7. Feature Importance Analysis ---\")\n",
    "    \n",
    "    # Membuat plot feature importance\n",
    "    fig, ax = plt.subplots(figsize=(10, 7))\n",
    "    xgb.plot_importance(model, ax=ax, importance_type='weight', show_values=False)\n",
    "    plt.title('Feature Importance (Berdasarkan Frekuensi Penggunaan)', fontsize=14, fontweight='bold')\n",
    "    plt.show()"
   ]
  },
  {
   "cell_type": "markdown",
   "id": "13d8abb4",
   "metadata": {},
   "source": [
    "### PHASE 5 COMPLETED\n",
    "\n",
    "**Output dari tahap ini adalah:**\n",
    "1.  **Model Terlatih:** Sebuah objek `model` XGBoost yang sudah siap digunakan untuk membuat prediksi pada data baru.\n",
    "2.  **Metrik Performa Kuantitatif:** Laporan klasifikasi dan skor AUC-PR yang memberi kita gambaran objektif tentang seberapa baik model kita.\n",
    "3.  **Visualisasi Diagnostik:** Confusion Matrix dan kurva P-R yang membantu kita memahami kekuatan dan kelemahan model secara visual.\n",
    "4.  **Insight Fitur:** Grafik *feature importance* yang menunjukkan pendorong utama di balik prediksi model.\n",
    "\n",
    "Kita sekarang siap untuk tahap akhir: menginterpretasikan hasil ini dan menarik kesimpulan.\n"
   ]
  }
 ],
 "metadata": {
  "kernelspec": {
   "display_name": "Python 3",
   "language": "python",
   "name": "python3"
  },
  "language_info": {
   "codemirror_mode": {
    "name": "ipython",
    "version": 3
   },
   "file_extension": ".py",
   "mimetype": "text/x-python",
   "name": "python",
   "nbconvert_exporter": "python",
   "pygments_lexer": "ipython3",
   "version": "3.10.12"
  }
 },
 "nbformat": 4,
 "nbformat_minor": 5
}
